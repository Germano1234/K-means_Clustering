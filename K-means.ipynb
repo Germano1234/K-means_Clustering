{
 "cells": [
  {
   "cell_type": "markdown",
   "id": "28af776f-3d4d-462c-ad87-39150e784f97",
   "metadata": {},
   "source": [
    "# K-means Clustering with Pyspark"
   ]
  },
  {
   "cell_type": "code",
   "execution_count": 103,
   "id": "0ce0918e-7b78-408a-81f5-3e2ad185cb1a",
   "metadata": {},
   "outputs": [],
   "source": [
    "from pyspark.sql import SparkSession\n",
    "from pyspark.sql.types import StructType, StructField, IntegerType, FloatType, StringType, TimestampType, LongType, DoubleType\n",
    "from pyspark.ml.clustering import KMeans\n",
    "from pyspark.ml.evaluation import ClusteringEvaluator\n",
    "from pyspark.ml.feature import VectorAssembler, StandardScaler\n",
    "from pyspark.sql.functions import col \n",
    "from pyspark.sql import functions as F\n",
    "from sklearn.metrics import confusion_matrix, precision_score, recall_score, accuracy_score\n",
    "from pyspark.sql.functions import when, col, isnan"
   ]
  },
  {
   "cell_type": "code",
   "execution_count": 61,
   "id": "37e163db-b2ca-4517-bef4-09946fd1ff74",
   "metadata": {},
   "outputs": [],
   "source": [
    "spark = SparkSession.builder.master('local[*]').appName(\"K-means with file\").config('spark.ui.port','4050').getOrCreate()"
   ]
  },
  {
   "cell_type": "code",
   "execution_count": 62,
   "id": "245951ac-f7d7-4ffd-bc3a-c4049949c5a9",
   "metadata": {},
   "outputs": [],
   "source": [
    "file_path = \"/home/gc100/Downloads/part-00000-318611a1-7cdc-4dd0-9348-c6368917fd0c-c000.csv\"\n",
    "df = spark.read.csv(file_path, header = True, inferSchema = True)"
   ]
  },
  {
   "cell_type": "code",
   "execution_count": 63,
   "id": "58af1e40-0277-4220-838d-c75f632231d1",
   "metadata": {},
   "outputs": [
    {
     "data": {
      "text/plain": [
       "10260"
      ]
     },
     "execution_count": 63,
     "metadata": {},
     "output_type": "execute_result"
    }
   ],
   "source": [
    "df.count()"
   ]
  },
  {
   "cell_type": "markdown",
   "id": "b055b11f-4705-4679-9376-93017e005b92",
   "metadata": {},
   "source": [
    "### Find the name of the attacks"
   ]
  },
  {
   "cell_type": "code",
   "execution_count": 64,
   "id": "675f06b7-ff9c-4b44-9173-dfccc75f814c",
   "metadata": {},
   "outputs": [
    {
     "data": {
      "text/plain": [
       "[Row(mitre_attack_tactics='none'), Row(mitre_attack_tactics='Reconnaissance')]"
      ]
     },
     "execution_count": 64,
     "metadata": {},
     "output_type": "execute_result"
    }
   ],
   "source": [
    "tactics_names = df.select(\"mitre_attack_tactics\").distinct().collect()\n",
    "tactics_names"
   ]
  },
  {
   "cell_type": "markdown",
   "id": "1ea70426-6c66-4749-93c7-723c092e74e9",
   "metadata": {},
   "source": [
    "### Create a new column of Features with each row containing a vector that has all numeric values of this entire row"
   ]
  },
  {
   "cell_type": "code",
   "execution_count": 65,
   "id": "22089ebc-ea55-439b-812d-9819c23a2058",
   "metadata": {},
   "outputs": [],
   "source": [
    "columns_to_check = [\"resp_pkts\", \"orig_ip_bytes\",\"missed_bytes\", \"duration\", \"orig_pkts\", \n",
    "                    \"resp_ip_bytes\", \"dest_port\",\"orig_bytes\", \"resp_bytes\", \n",
    "                    \"src_port\", \"ts\"]\n",
    "#df_cleaned = df.na.drop(subset=columns_to_check) #Removes rows that have any missing values in the specified columns\n",
    "#assembler = VectorAssembler(\n",
    "#    inputCols = columns_to_check,\n",
    "#    outputCol = \"features\",\n",
    "#    handleInvalid = \"skip\" \n",
    "#)\n",
    "#df_assembler = assembler.transform(df) \n",
    "df_filled = df.na.fill(0, subset=columns_to_check)\n",
    "assembler = VectorAssembler(\n",
    "    inputCols = columns_to_check,\n",
    "    outputCol = \"features\"\n",
    ")\n",
    "df_assembled = assembler.transform(df_filled)"
   ]
  },
  {
   "cell_type": "markdown",
   "id": "a838d2d8-1d74-4603-88f2-31c0e570db01",
   "metadata": {},
   "source": [
    "<h3> Scale all the features into a new column called scaledFeatures.</h3> <br> <p> Standard Scalar gets each point and subtracts it by the mean and divides it by the std. <br> <p> z = (x-μ)/σ​"
   ]
  },
  {
   "cell_type": "code",
   "execution_count": 66,
   "id": "e6b6c02b-aaf7-45b5-a3eb-3f9f41b4f084",
   "metadata": {},
   "outputs": [
    {
     "data": {
      "text/html": [
       "<div>\n",
       "<style scoped>\n",
       "    .dataframe tbody tr th:only-of-type {\n",
       "        vertical-align: middle;\n",
       "    }\n",
       "\n",
       "    .dataframe tbody tr th {\n",
       "        vertical-align: top;\n",
       "    }\n",
       "\n",
       "    .dataframe thead th {\n",
       "        text-align: right;\n",
       "    }\n",
       "</style>\n",
       "<table border=\"1\" class=\"dataframe\">\n",
       "  <thead>\n",
       "    <tr style=\"text-align: right;\">\n",
       "      <th></th>\n",
       "      <th>features</th>\n",
       "      <th>scaledFeatures</th>\n",
       "    </tr>\n",
       "  </thead>\n",
       "  <tbody>\n",
       "    <tr>\n",
       "      <th>0</th>\n",
       "      <td>(0.0, 240.0, 0.0, 0.0010759830474853516, 4.0, ...</td>\n",
       "      <td>(0.0, 2.5599590803402803, 0.0, 0.0003256528110...</td>\n",
       "    </tr>\n",
       "    <tr>\n",
       "      <th>1</th>\n",
       "      <td>(0.0, 240.0, 0.0, 0.0010759830474853516, 4.0, ...</td>\n",
       "      <td>(0.0, 2.5599590803402803, 0.0, 0.0003256528110...</td>\n",
       "    </tr>\n",
       "    <tr>\n",
       "      <th>2</th>\n",
       "      <td>(0.0, 240.0, 0.0, 0.0010759830474853516, 4.0, ...</td>\n",
       "      <td>(0.0, 2.5599590803402803, 0.0, 0.0003256528110...</td>\n",
       "    </tr>\n",
       "    <tr>\n",
       "      <th>3</th>\n",
       "      <td>(0.0, 240.0, 0.0, 0.0010759830474853516, 4.0, ...</td>\n",
       "      <td>(0.0, 2.5599590803402803, 0.0, 0.0003256528110...</td>\n",
       "    </tr>\n",
       "    <tr>\n",
       "      <th>4</th>\n",
       "      <td>(0.0, 240.0, 0.0, 0.0010759830474853516, 4.0, ...</td>\n",
       "      <td>(0.0, 2.5599590803402803, 0.0, 0.0003256528110...</td>\n",
       "    </tr>\n",
       "  </tbody>\n",
       "</table>\n",
       "</div>"
      ],
      "text/plain": [
       "                                            features  \\\n",
       "0  (0.0, 240.0, 0.0, 0.0010759830474853516, 4.0, ...   \n",
       "1  (0.0, 240.0, 0.0, 0.0010759830474853516, 4.0, ...   \n",
       "2  (0.0, 240.0, 0.0, 0.0010759830474853516, 4.0, ...   \n",
       "3  (0.0, 240.0, 0.0, 0.0010759830474853516, 4.0, ...   \n",
       "4  (0.0, 240.0, 0.0, 0.0010759830474853516, 4.0, ...   \n",
       "\n",
       "                                      scaledFeatures  \n",
       "0  (0.0, 2.5599590803402803, 0.0, 0.0003256528110...  \n",
       "1  (0.0, 2.5599590803402803, 0.0, 0.0003256528110...  \n",
       "2  (0.0, 2.5599590803402803, 0.0, 0.0003256528110...  \n",
       "3  (0.0, 2.5599590803402803, 0.0, 0.0003256528110...  \n",
       "4  (0.0, 2.5599590803402803, 0.0, 0.0003256528110...  "
      ]
     },
     "execution_count": 66,
     "metadata": {},
     "output_type": "execute_result"
    }
   ],
   "source": [
    "scaler = StandardScaler(inputCol = \"features\", outputCol = \"scaledFeatures\")\n",
    "scaler_model = scaler.fit(df_assembled)\n",
    "df_scaled = scaler_model.transform(df_assembled)\n",
    "df_scaled.select(\"features\", \"scaledFeatures\").limit(5).toPandas()"
   ]
  },
  {
   "cell_type": "markdown",
   "id": "e62adff9-974b-4926-a272-a4adc859d748",
   "metadata": {},
   "source": [
    "### Apply the K-means algorithm on the scaled features"
   ]
  },
  {
   "cell_type": "code",
   "execution_count": 84,
   "id": "7b73a25c-3833-4c1d-85c0-6d133cb1be72",
   "metadata": {},
   "outputs": [],
   "source": [
    "kmeans = KMeans(featuresCol= \"scaledFeatures\", k=3, seed=20) \n",
    "model = kmeans.fit(df_scaled)"
   ]
  },
  {
   "cell_type": "markdown",
   "id": "9a33e467-8f7a-4219-b67b-9b7c5cf8a399",
   "metadata": {},
   "source": [
    "<h3>With this settings, the algorithm was able to separate clusters that contained just attacks</h3>\n",
    "<p> -k=9 and seed=20 for first file \n",
    "    <br> \"/home/gc100/Downloads/part-00000-0af89d10-df53-44fd-b124-a8a496fd5023-c000.csv\"\n",
    "<p> -k=3 and seed=20 for second\n",
    "    <br> \"/home/gc100/Downloads/part-00000-318611a1-7cdc-4dd0-9348-c6368917fd0c-c000.csv\"\n",
    "<p> -k=25 and seed=20 for third\n",
    "    <br> \"/home/gc100/Downloads/part-00000-15e3dd03-ea76-429e-a52a-ce96a90517f9-c000.csv\""
   ]
  },
  {
   "cell_type": "code",
   "execution_count": 85,
   "id": "4cd62196-d984-4d93-8ad4-9eadc98a6347",
   "metadata": {},
   "outputs": [],
   "source": [
    "centers = model.clusterCenters()\n",
    "df_pred = model.transform(df_scaled)"
   ]
  },
  {
   "cell_type": "code",
   "execution_count": 86,
   "id": "66b4b38e-4e17-4708-a01d-9db7c0525d5f",
   "metadata": {},
   "outputs": [],
   "source": [
    "df_pred = df_pred.withColumnRenamed(\"prediction\", \"cluster\")"
   ]
  },
  {
   "cell_type": "markdown",
   "id": "4bed4c40-0c36-47b5-b99f-3f834f334aa3",
   "metadata": {},
   "source": [
    "### Find the clusters that contain attacks"
   ]
  },
  {
   "cell_type": "code",
   "execution_count": 87,
   "id": "7b2ca0ba-5f69-49b4-baed-8d25bf3a7758",
   "metadata": {},
   "outputs": [
    {
     "data": {
      "text/plain": [
       "[1]"
      ]
     },
     "execution_count": 87,
     "metadata": {},
     "output_type": "execute_result"
    }
   ],
   "source": [
    "clusters_w_attacks = df_pred.select(\"cluster\").where(\"mitre_attack_tactics = 'Reconnaissance'\").distinct().collect()\n",
    "#clusters_w_attacks\n",
    "clusters_w_attacks = [row.cluster for row in clusters_w_attacks]\n",
    "clusters_w_attacks"
   ]
  },
  {
   "cell_type": "markdown",
   "id": "89f529ef-7072-4fcf-89e9-ee787b8edcdb",
   "metadata": {},
   "source": [
    "<h3>See how many normal data we have in each cluster that contain attacks</h3>\n",
    "<p>If 0 is found then the algorithm works and we were able to have clusters cointaining exclusively attacks</p>"
   ]
  },
  {
   "cell_type": "code",
   "execution_count": 88,
   "id": "e75537a6-fed9-4771-8073-09e50cd7201a",
   "metadata": {},
   "outputs": [
    {
     "name": "stdout",
     "output_type": "stream",
     "text": [
      "Cluster: 1, Count: 0\n"
     ]
    }
   ],
   "source": [
    "for cluster in clusters_w_attacks:\n",
    "    count = df_pred.select(\"cluster\").where((df_pred[\"mitre_attack_tactics\"] == 'none') & (df_pred[\"cluster\"] == cluster)).count()\n",
    "    print(f\"Cluster: {cluster}, Count: {count}\")"
   ]
  },
  {
   "cell_type": "markdown",
   "id": "d3bfff7c-4883-4777-acef-5aba3cc772d3",
   "metadata": {},
   "source": [
    "<h3>Check if these clusters actually contain the attacks and how many points are present on each cluster</h3>"
   ]
  },
  {
   "cell_type": "code",
   "execution_count": 89,
   "id": "9bd99c71-28f0-4c84-86ee-19541503a8af",
   "metadata": {},
   "outputs": [
    {
     "name": "stdout",
     "output_type": "stream",
     "text": [
      "Cluster: 1, Count: 2048\n"
     ]
    }
   ],
   "source": [
    "for cluster in clusters_w_attacks:\n",
    "    count = df_pred.select(\"cluster\").where((df_pred[\"mitre_attack_tactics\"] == 'Reconnaissance') & (df_pred[\"cluster\"] == cluster)).count()\n",
    "    print(f\"Cluster: {cluster}, Count: {count}\")"
   ]
  },
  {
   "cell_type": "code",
   "execution_count": 90,
   "id": "8ff51be8-8782-484a-81d8-ef871c8c5101",
   "metadata": {},
   "outputs": [
    {
     "name": "stdout",
     "output_type": "stream",
     "text": [
      "+--------------------+-------+\n",
      "|mitre_attack_tactics|cluster|\n",
      "+--------------------+-------+\n",
      "|      Reconnaissance|      1|\n",
      "|      Reconnaissance|      1|\n",
      "|      Reconnaissance|      1|\n",
      "|      Reconnaissance|      1|\n",
      "|      Reconnaissance|      1|\n",
      "+--------------------+-------+\n",
      "only showing top 5 rows\n",
      "\n"
     ]
    }
   ],
   "source": [
    "df_pred.select(\"mitre_attack_tactics\", \"cluster\").where(\"mitre_attack_tactics = 'Reconnaissance'\").show(5)"
   ]
  },
  {
   "cell_type": "code",
   "execution_count": 91,
   "id": "c508257f-c542-43f6-9130-389d2a598e12",
   "metadata": {},
   "outputs": [],
   "source": [
    "#for center in centers:\n",
    "    #print(center)"
   ]
  },
  {
   "cell_type": "markdown",
   "id": "cb07e777-a634-4d75-bd0e-b1d5385626f1",
   "metadata": {},
   "source": [
    "### Check how many points we have on each cluster"
   ]
  },
  {
   "cell_type": "code",
   "execution_count": 92,
   "id": "6ebeab70-85c9-45fd-8e0e-77459769e565",
   "metadata": {},
   "outputs": [
    {
     "name": "stdout",
     "output_type": "stream",
     "text": [
      "+-------+-----+\n",
      "|cluster|count|\n",
      "+-------+-----+\n",
      "|      0| 7767|\n",
      "|      1| 2048|\n",
      "|      2|  445|\n",
      "+-------+-----+\n",
      "\n"
     ]
    }
   ],
   "source": [
    "df_pred.groupBy(\"cluster\").count().orderBy(\"cluster\").show(10)"
   ]
  },
  {
   "cell_type": "markdown",
   "id": "02da0b9f-8670-4dcf-9784-a4c157163db2",
   "metadata": {},
   "source": [
    "### Label all the attacks as 1"
   ]
  },
  {
   "cell_type": "code",
   "execution_count": 93,
   "id": "7f00e46b-7a86-4c2c-8d3a-0bb082d05a77",
   "metadata": {},
   "outputs": [
    {
     "name": "stdout",
     "output_type": "stream",
     "text": [
      "+--------------------+-----+\n",
      "|mitre_attack_tactics|label|\n",
      "+--------------------+-----+\n",
      "|      Reconnaissance|    1|\n",
      "|      Reconnaissance|    1|\n",
      "|      Reconnaissance|    1|\n",
      "|      Reconnaissance|    1|\n",
      "|      Reconnaissance|    1|\n",
      "+--------------------+-----+\n",
      "only showing top 5 rows\n",
      "\n"
     ]
    }
   ],
   "source": [
    "df_pred = df_pred.withColumn(\n",
    "    'label',\n",
    "    when(col('mitre_attack_tactics').isin('Reconnaissance', 'Discovery'), 1).otherwise(0)\n",
    ")\n",
    "\n",
    "# Show the result to verify\n",
    "df_pred.select('mitre_attack_tactics', 'label').show(5)"
   ]
  },
  {
   "cell_type": "markdown",
   "id": "96246a13-ee0f-45fa-884e-d6e4d42e1577",
   "metadata": {},
   "source": [
    "### Label all the points that are on the clusters with attacks as 1"
   ]
  },
  {
   "cell_type": "code",
   "execution_count": 94,
   "id": "a690e2a1-f9e5-49fe-83b5-c0a2ad50eddf",
   "metadata": {},
   "outputs": [
    {
     "name": "stdout",
     "output_type": "stream",
     "text": [
      "+--------------------+----------+\n",
      "|mitre_attack_tactics|prediction|\n",
      "+--------------------+----------+\n",
      "|      Reconnaissance|         1|\n",
      "|      Reconnaissance|         1|\n",
      "|      Reconnaissance|         1|\n",
      "|      Reconnaissance|         1|\n",
      "|      Reconnaissance|         1|\n",
      "+--------------------+----------+\n",
      "only showing top 5 rows\n",
      "\n"
     ]
    }
   ],
   "source": [
    "df_pred = df_pred.withColumn(\n",
    "    'prediction',\n",
    "    when(col('cluster').isin(clusters_w_attacks), 1).otherwise(0)\n",
    ")\n",
    "\n",
    "# Show the result to verify\n",
    "df_pred.select('mitre_attack_tactics', 'prediction').show(5)"
   ]
  },
  {
   "cell_type": "markdown",
   "id": "cc4dcb9f-e027-4395-b123-10952127813a",
   "metadata": {},
   "source": [
    "### Compare this two columns and calculate the Confusion Matrix, Precision, and Recall"
   ]
  },
  {
   "cell_type": "code",
   "execution_count": 95,
   "id": "eb40b16c-428b-4354-b18e-2b4a3e4482c3",
   "metadata": {},
   "outputs": [
    {
     "name": "stdout",
     "output_type": "stream",
     "text": [
      "Confusion Matrix:\n",
      "[[8212    0]\n",
      " [   0 2048]]\n",
      "Precision: 1.0\n",
      "Recall: 1.0\n",
      "Accuracy: 1.0\n"
     ]
    }
   ],
   "source": [
    "df_pred = df_pred.withColumn('label', col('label').cast(IntegerType()))\n",
    "    \n",
    "pred_and_labels = df_pred.select('prediction', 'label').collect()\n",
    "    \n",
    "pred_and_labels = [(row['prediction'], row['label']) for row in pred_and_labels]\n",
    "    \n",
    "predictions, labels = zip(*pred_and_labels)\n",
    "    \n",
    "conf_matrix = confusion_matrix(labels, predictions)\n",
    "\n",
    "precision = precision_score(labels, predictions, average='weighted')\n",
    "recall = recall_score(labels, predictions, average='weighted')\n",
    "accuracy = accuracy_score(labels, predictions)\n",
    "    \n",
    "print(\"Confusion Matrix:\")\n",
    "print(conf_matrix)\n",
    "    \n",
    "print(f\"Precision: {precision}\")\n",
    "print(f\"Recall: {recall}\")\n",
    "print(f\"Accuracy: {accuracy}\")"
   ]
  },
  {
   "cell_type": "markdown",
   "id": "febec6ab-533c-49ae-8053-f2d91005ba45",
   "metadata": {},
   "source": [
    "## Plot to see how the clusters look like"
   ]
  },
  {
   "cell_type": "code",
   "execution_count": 96,
   "id": "533bd0f9-d0ab-41df-ace3-dd1deec13ee2",
   "metadata": {},
   "outputs": [],
   "source": [
    "import pandas as pd\n",
    "import numpy as np\n",
    "import matplotlib.pyplot as plt\n",
    "from sklearn.decomposition import PCA #Principal Component Analysis for dimensionality reduction"
   ]
  },
  {
   "cell_type": "code",
   "execution_count": 97,
   "id": "e4ebcff2-2d08-481a-8fbf-fd262a997eb6",
   "metadata": {},
   "outputs": [],
   "source": [
    "data = df_pred.select(\"scaledFeatures\",\"cluster\").collect()"
   ]
  },
  {
   "cell_type": "code",
   "execution_count": 98,
   "id": "3ead9ad8-7f9c-4ef0-82b7-30eb579eb595",
   "metadata": {},
   "outputs": [],
   "source": [
    "features = np.array([row['scaledFeatures'] for row in data])\n",
    "predictions = np.array([row['cluster'] for row in data])"
   ]
  },
  {
   "cell_type": "code",
   "execution_count": 99,
   "id": "6aee9513-36e4-4f9f-8880-e32400ac9397",
   "metadata": {},
   "outputs": [],
   "source": [
    "pca = PCA(n_components = 2)\n",
    "components = pca.fit_transform(features.tolist())"
   ]
  },
  {
   "cell_type": "code",
   "execution_count": 100,
   "id": "a4f9f7b6-b90f-459a-8f9b-f00baa44daeb",
   "metadata": {},
   "outputs": [
    {
     "data": {
      "image/png": "[encoded data removed]",
      "text/plain": [
       "<Figure size 1000x600 with 2 Axes>"
      ]
     },
     "metadata": {},
     "output_type": "display_data"
    }
   ],
   "source": [
    "plt.figure(figsize=(10,6))\n",
    "plt.scatter(components[:,0], components[:,1], c=predictions, cmap='viridis', marker='o')\n",
    "plt.title('K-means Clustering')\n",
    "plt.xlabel('PCA Component 1')\n",
    "plt.ylabel('PCA Component 2')\n",
    "plt.colorbar(label = 'Cluster')\n",
    "plt.show()"
   ]
  },
  {
   "cell_type": "markdown",
   "id": "c2e83304-c390-455a-a97c-404d08d3f793",
   "metadata": {},
   "source": [
    "## Graph that shows where the attacks where"
   ]
  },
  {
   "cell_type": "code",
   "execution_count": 101,
   "id": "50dd6f60-71b0-4ae7-a470-73ca137f68f4",
   "metadata": {},
   "outputs": [
    {
     "data": {
      "image/png": "[encoded data removed]",
      "text/plain": [
       "<Figure size 1000x600 with 2 Axes>"
      ]
     },
     "metadata": {},
     "output_type": "display_data"
    }
   ],
   "source": [
    "data = df_pred.select(\"scaledFeatures\", \"cluster\", \"mitre_attack_tactics\").collect()\n",
    "features = np.array([row['scaledFeatures'] for row in data])\n",
    "predictions = np.array([row['cluster'] for row in data])\n",
    "tactics = np.array([row['mitre_attack_tactics'] for row in data])\n",
    "color_map = {\n",
    "    'Reconnaissance': 'red',\n",
    "    'none': 'blue'\n",
    "}\n",
    "colors = [color_map.get(tactic, 'gray') for tactic in tactics]\n",
    "\n",
    "# Plotting the PCA components\n",
    "plt.figure(figsize=(10, 6))\n",
    "plt.scatter(components[:, 0], components[:, 1], c=colors, marker='o')\n",
    "plt.title('K-means Clustering with MITRE Attack Tactics')\n",
    "plt.xlabel('PCA Component 1')\n",
    "plt.ylabel('PCA Component 2')\n",
    "plt.colorbar(label='Cluster')\n",
    "plt.show()"
   ]
  },
  {
   "cell_type": "code",
   "execution_count": 102,
   "id": "66308800-6fca-46e4-adaf-1f27e39b3330",
   "metadata": {},
   "outputs": [
    {
     "data": {
      "text/html": [
       "\n",
       "            <div>\n",
       "                <p><b>SparkSession - in-memory</b></p>\n",
       "                \n",
       "        <div>\n",
       "            <p><b>SparkContext</b></p>\n",
       "\n",
       "            <p><a href=\"http://ubuntu-virtual-machine:4051\">Spark UI</a></p>\n",
       "\n",
       "            <dl>\n",
       "              <dt>Version</dt>\n",
       "                <dd><code>v3.5.0</code></dd>\n",
       "              <dt>Master</dt>\n",
       "                <dd><code>local[*]</code></dd>\n",
       "              <dt>AppName</dt>\n",
       "                <dd><code>K-means with file</code></dd>\n",
       "            </dl>\n",
       "        </div>\n",
       "        \n",
       "            </div>\n",
       "        "
      ],
      "text/plain": [
       "<pyspark.sql.session.SparkSession at 0x7344e2521d20>"
      ]
     },
     "execution_count": 102,
     "metadata": {},
     "output_type": "execute_result"
    }
   ],
   "source": [
    "spark"
   ]
  },
  {
   "cell_type": "code",
   "execution_count": 532,
   "id": "59fde248-2c78-4824-a8b4-211df9041eb1",
   "metadata": {},
   "outputs": [],
   "source": [
    "spark.sparkContext.stop()"
   ]
  },
  {
   "cell_type": "code",
   "execution_count": null,
   "id": "6b442591-8dae-461a-be20-e84ca9cc3e1d",
   "metadata": {},
   "outputs": [],
   "source": []
  }
 ],
 "metadata": {
  "kernelspec": {
   "display_name": "Python 3 (ipykernel)",
   "language": "python",
   "name": "python3"
  },
  "language_info": {
   "codemirror_mode": {
    "name": "ipython",
    "version": 3
   },
   "file_extension": ".py",
   "mimetype": "text/x-python",
   "name": "python",
   "nbconvert_exporter": "python",
   "pygments_lexer": "ipython3",
   "version": "3.10.12"
  }
 },
 "nbformat": 4,
 "nbformat_minor": 5
}
